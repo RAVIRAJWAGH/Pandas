{
 "cells": [
  {
   "cell_type": "markdown",
   "id": "6889f31b",
   "metadata": {},
   "source": [
    "# Pandas Day 3 loc iloc"
   ]
  },
  {
   "cell_type": "code",
   "execution_count": 1,
   "id": "bb4d0a30",
   "metadata": {},
   "outputs": [],
   "source": [
    "import pandas as pd"
   ]
  },
  {
   "cell_type": "code",
   "execution_count": 2,
   "id": "894ef9fa",
   "metadata": {},
   "outputs": [],
   "source": [
    "d=pd.read_csv(r\"C:\\Users\\Parimal\\Downloads\\used_bikes (1).csv\")"
   ]
  },
  {
   "cell_type": "code",
   "execution_count": 3,
   "id": "d8fb1c45",
   "metadata": {},
   "outputs": [
    {
     "data": {
      "text/html": [
       "<div>\n",
       "<style scoped>\n",
       "    .dataframe tbody tr th:only-of-type {\n",
       "        vertical-align: middle;\n",
       "    }\n",
       "\n",
       "    .dataframe tbody tr th {\n",
       "        vertical-align: top;\n",
       "    }\n",
       "\n",
       "    .dataframe thead th {\n",
       "        text-align: right;\n",
       "    }\n",
       "</style>\n",
       "<table border=\"1\" class=\"dataframe\">\n",
       "  <thead>\n",
       "    <tr style=\"text-align: right;\">\n",
       "      <th></th>\n",
       "      <th>bike_name</th>\n",
       "      <th>price</th>\n",
       "      <th>city</th>\n",
       "      <th>kms_driven</th>\n",
       "      <th>owner</th>\n",
       "      <th>age</th>\n",
       "      <th>power</th>\n",
       "      <th>brand</th>\n",
       "    </tr>\n",
       "  </thead>\n",
       "  <tbody>\n",
       "    <tr>\n",
       "      <th>0</th>\n",
       "      <td>TVS Star City Plus Dual Tone 110cc</td>\n",
       "      <td>35000.0</td>\n",
       "      <td>Ahmedabad</td>\n",
       "      <td>17654.0</td>\n",
       "      <td>First Owner</td>\n",
       "      <td>3.0</td>\n",
       "      <td>110.0</td>\n",
       "      <td>TVS</td>\n",
       "    </tr>\n",
       "    <tr>\n",
       "      <th>1</th>\n",
       "      <td>Royal Enfield Classic 350cc</td>\n",
       "      <td>119900.0</td>\n",
       "      <td>Delhi</td>\n",
       "      <td>11000.0</td>\n",
       "      <td>First Owner</td>\n",
       "      <td>4.0</td>\n",
       "      <td>350.0</td>\n",
       "      <td>Royal Enfield</td>\n",
       "    </tr>\n",
       "    <tr>\n",
       "      <th>2</th>\n",
       "      <td>Triumph Daytona 675R</td>\n",
       "      <td>600000.0</td>\n",
       "      <td>Delhi</td>\n",
       "      <td>110.0</td>\n",
       "      <td>First Owner</td>\n",
       "      <td>8.0</td>\n",
       "      <td>675.0</td>\n",
       "      <td>Triumph</td>\n",
       "    </tr>\n",
       "    <tr>\n",
       "      <th>3</th>\n",
       "      <td>TVS Apache RTR 180cc</td>\n",
       "      <td>65000.0</td>\n",
       "      <td>Bangalore</td>\n",
       "      <td>16329.0</td>\n",
       "      <td>First Owner</td>\n",
       "      <td>4.0</td>\n",
       "      <td>180.0</td>\n",
       "      <td>TVS</td>\n",
       "    </tr>\n",
       "    <tr>\n",
       "      <th>4</th>\n",
       "      <td>Yamaha FZ S V 2.0 150cc-Ltd. Edition</td>\n",
       "      <td>80000.0</td>\n",
       "      <td>Bangalore</td>\n",
       "      <td>10000.0</td>\n",
       "      <td>First Owner</td>\n",
       "      <td>3.0</td>\n",
       "      <td>150.0</td>\n",
       "      <td>Yamaha</td>\n",
       "    </tr>\n",
       "    <tr>\n",
       "      <th>...</th>\n",
       "      <td>...</td>\n",
       "      <td>...</td>\n",
       "      <td>...</td>\n",
       "      <td>...</td>\n",
       "      <td>...</td>\n",
       "      <td>...</td>\n",
       "      <td>...</td>\n",
       "      <td>...</td>\n",
       "    </tr>\n",
       "    <tr>\n",
       "      <th>144</th>\n",
       "      <td>Royal Enfield Standard 350cc</td>\n",
       "      <td>115000.0</td>\n",
       "      <td>Hyderabad</td>\n",
       "      <td>14900.0</td>\n",
       "      <td>First Owner</td>\n",
       "      <td>3.0</td>\n",
       "      <td>350.0</td>\n",
       "      <td>Royal Enfield</td>\n",
       "    </tr>\n",
       "    <tr>\n",
       "      <th>145</th>\n",
       "      <td>Honda CB Shine 125cc Disc</td>\n",
       "      <td>65000.0</td>\n",
       "      <td>Mumbai</td>\n",
       "      <td>2000.0</td>\n",
       "      <td>First Owner</td>\n",
       "      <td>3.0</td>\n",
       "      <td>125.0</td>\n",
       "      <td>Honda</td>\n",
       "    </tr>\n",
       "    <tr>\n",
       "      <th>146</th>\n",
       "      <td>Honda CB Unicorn ABS 150cc</td>\n",
       "      <td>99000.0</td>\n",
       "      <td>Mumbai</td>\n",
       "      <td>4000.0</td>\n",
       "      <td>First Owner</td>\n",
       "      <td>2.0</td>\n",
       "      <td>150.0</td>\n",
       "      <td>Honda</td>\n",
       "    </tr>\n",
       "    <tr>\n",
       "      <th>147</th>\n",
       "      <td>Yamaha YZF-R15 2.0 150cc</td>\n",
       "      <td>68500.0</td>\n",
       "      <td>Delhi</td>\n",
       "      <td>68500.0</td>\n",
       "      <td>Second Owner</td>\n",
       "      <td>7.0</td>\n",
       "      <td>150.0</td>\n",
       "      <td>Yamaha</td>\n",
       "    </tr>\n",
       "    <tr>\n",
       "      <th>148</th>\n",
       "      <td>Yamaha YZF-R15 V3 150cc</td>\n",
       "      <td>140000.0</td>\n",
       "      <td>Delhi</td>\n",
       "      <td>2473.0</td>\n",
       "      <td>First Owner</td>\n",
       "      <td>2.0</td>\n",
       "      <td>150.0</td>\n",
       "      <td>Yamaha</td>\n",
       "    </tr>\n",
       "  </tbody>\n",
       "</table>\n",
       "<p>149 rows × 8 columns</p>\n",
       "</div>"
      ],
      "text/plain": [
       "                                bike_name     price       city  kms_driven  \\\n",
       "0      TVS Star City Plus Dual Tone 110cc   35000.0  Ahmedabad     17654.0   \n",
       "1             Royal Enfield Classic 350cc  119900.0      Delhi     11000.0   \n",
       "2                    Triumph Daytona 675R  600000.0      Delhi       110.0   \n",
       "3                    TVS Apache RTR 180cc   65000.0  Bangalore     16329.0   \n",
       "4    Yamaha FZ S V 2.0 150cc-Ltd. Edition   80000.0  Bangalore     10000.0   \n",
       "..                                    ...       ...        ...         ...   \n",
       "144          Royal Enfield Standard 350cc  115000.0  Hyderabad     14900.0   \n",
       "145             Honda CB Shine 125cc Disc   65000.0     Mumbai      2000.0   \n",
       "146            Honda CB Unicorn ABS 150cc   99000.0     Mumbai      4000.0   \n",
       "147              Yamaha YZF-R15 2.0 150cc   68500.0      Delhi     68500.0   \n",
       "148               Yamaha YZF-R15 V3 150cc  140000.0      Delhi      2473.0   \n",
       "\n",
       "            owner  age  power          brand  \n",
       "0     First Owner  3.0  110.0            TVS  \n",
       "1     First Owner  4.0  350.0  Royal Enfield  \n",
       "2     First Owner  8.0  675.0        Triumph  \n",
       "3     First Owner  4.0  180.0            TVS  \n",
       "4     First Owner  3.0  150.0         Yamaha  \n",
       "..            ...  ...    ...            ...  \n",
       "144   First Owner  3.0  350.0  Royal Enfield  \n",
       "145   First Owner  3.0  125.0          Honda  \n",
       "146   First Owner  2.0  150.0          Honda  \n",
       "147  Second Owner  7.0  150.0         Yamaha  \n",
       "148   First Owner  2.0  150.0         Yamaha  \n",
       "\n",
       "[149 rows x 8 columns]"
      ]
     },
     "execution_count": 3,
     "metadata": {},
     "output_type": "execute_result"
    }
   ],
   "source": [
    "d"
   ]
  },
  {
   "cell_type": "code",
   "execution_count": 5,
   "id": "2d243051",
   "metadata": {},
   "outputs": [
    {
     "data": {
      "text/plain": [
       "city\n",
       "Agra             14.000000\n",
       "Ahmedabad         7.750000\n",
       "Allahabad         6.000000\n",
       "Bagalkot          2.000000\n",
       "Bangalore         4.777778\n",
       "Barasat           5.000000\n",
       "Baripara          4.000000\n",
       "Chennai           4.000000\n",
       "Delhi             5.783784\n",
       "Dharwad           7.000000\n",
       "Ernakulam         4.000000\n",
       "Faridabad         5.500000\n",
       "Gandhidham        4.000000\n",
       "Ghaziabad         6.000000\n",
       "Gorakhpur         5.500000\n",
       "Gurgaon           5.000000\n",
       "Hosur             5.000000\n",
       "Hyderabad         5.833333\n",
       "Jaipur            4.000000\n",
       "Jalandhar        11.000000\n",
       "Kaithal           4.000000\n",
       "Kalyan            5.000000\n",
       "Karnal            8.000000\n",
       "Kochi             5.000000\n",
       "Kolkata           6.000000\n",
       "Lucknow          13.000000\n",
       "Mettur            2.000000\n",
       "Mumbai            4.842105\n",
       "Nadiad            8.000000\n",
       "Nashik            8.000000\n",
       "Navi Mumbai       2.000000\n",
       "Noida             7.000000\n",
       "Pune              6.000000\n",
       "Samastipur        2.000000\n",
       "Surat             7.000000\n",
       "Thrissur          3.000000\n",
       "Vadodara          4.333333\n",
       "Vidisha           9.000000\n",
       "Visakhapatnam    13.000000\n",
       "Name: age, dtype: float64"
      ]
     },
     "execution_count": 5,
     "metadata": {},
     "output_type": "execute_result"
    }
   ],
   "source": [
    "d.groupby(\"city\").age.mean()"
   ]
  },
  {
   "cell_type": "code",
   "execution_count": 9,
   "id": "7d4f33d9",
   "metadata": {},
   "outputs": [
    {
     "data": {
      "text/html": [
       "<div>\n",
       "<style scoped>\n",
       "    .dataframe tbody tr th:only-of-type {\n",
       "        vertical-align: middle;\n",
       "    }\n",
       "\n",
       "    .dataframe tbody tr th {\n",
       "        vertical-align: top;\n",
       "    }\n",
       "\n",
       "    .dataframe thead th {\n",
       "        text-align: right;\n",
       "    }\n",
       "</style>\n",
       "<table border=\"1\" class=\"dataframe\">\n",
       "  <thead>\n",
       "    <tr style=\"text-align: right;\">\n",
       "      <th></th>\n",
       "      <th>bike_name</th>\n",
       "      <th>price</th>\n",
       "      <th>city</th>\n",
       "      <th>kms_driven</th>\n",
       "      <th>owner</th>\n",
       "      <th>age</th>\n",
       "      <th>power</th>\n",
       "      <th>brand</th>\n",
       "    </tr>\n",
       "  </thead>\n",
       "  <tbody>\n",
       "    <tr>\n",
       "      <th>30</th>\n",
       "      <td>Bajaj Pulsar NS200</td>\n",
       "      <td>88000.0</td>\n",
       "      <td>Hyderabad</td>\n",
       "      <td>21914.0</td>\n",
       "      <td>First Owner</td>\n",
       "      <td>3.0</td>\n",
       "      <td>200.0</td>\n",
       "      <td>Bajaj</td>\n",
       "    </tr>\n",
       "    <tr>\n",
       "      <th>41</th>\n",
       "      <td>Bajaj Avenger 220cc</td>\n",
       "      <td>45000.0</td>\n",
       "      <td>Hyderabad</td>\n",
       "      <td>36100.0</td>\n",
       "      <td>First Owner</td>\n",
       "      <td>6.0</td>\n",
       "      <td>220.0</td>\n",
       "      <td>Bajaj</td>\n",
       "    </tr>\n",
       "    <tr>\n",
       "      <th>68</th>\n",
       "      <td>Bajaj Pulsar 220cc</td>\n",
       "      <td>29500.0</td>\n",
       "      <td>Hyderabad</td>\n",
       "      <td>40700.0</td>\n",
       "      <td>First Owner</td>\n",
       "      <td>12.0</td>\n",
       "      <td>220.0</td>\n",
       "      <td>Bajaj</td>\n",
       "    </tr>\n",
       "    <tr>\n",
       "      <th>142</th>\n",
       "      <td>Bajaj Discover 150cc</td>\n",
       "      <td>36000.0</td>\n",
       "      <td>Hyderabad</td>\n",
       "      <td>39500.0</td>\n",
       "      <td>First Owner</td>\n",
       "      <td>7.0</td>\n",
       "      <td>150.0</td>\n",
       "      <td>Bajaj</td>\n",
       "    </tr>\n",
       "    <tr>\n",
       "      <th>143</th>\n",
       "      <td>Bajaj Avenger Street 220</td>\n",
       "      <td>72000.0</td>\n",
       "      <td>Hyderabad</td>\n",
       "      <td>29500.0</td>\n",
       "      <td>First Owner</td>\n",
       "      <td>4.0</td>\n",
       "      <td>220.0</td>\n",
       "      <td>Bajaj</td>\n",
       "    </tr>\n",
       "    <tr>\n",
       "      <th>144</th>\n",
       "      <td>Royal Enfield Standard 350cc</td>\n",
       "      <td>115000.0</td>\n",
       "      <td>Hyderabad</td>\n",
       "      <td>14900.0</td>\n",
       "      <td>First Owner</td>\n",
       "      <td>3.0</td>\n",
       "      <td>350.0</td>\n",
       "      <td>Royal Enfield</td>\n",
       "    </tr>\n",
       "  </tbody>\n",
       "</table>\n",
       "</div>"
      ],
      "text/plain": [
       "                        bike_name     price       city  kms_driven  \\\n",
       "30             Bajaj Pulsar NS200   88000.0  Hyderabad     21914.0   \n",
       "41            Bajaj Avenger 220cc   45000.0  Hyderabad     36100.0   \n",
       "68             Bajaj Pulsar 220cc   29500.0  Hyderabad     40700.0   \n",
       "142          Bajaj Discover 150cc   36000.0  Hyderabad     39500.0   \n",
       "143      Bajaj Avenger Street 220   72000.0  Hyderabad     29500.0   \n",
       "144  Royal Enfield Standard 350cc  115000.0  Hyderabad     14900.0   \n",
       "\n",
       "           owner   age  power          brand  \n",
       "30   First Owner   3.0  200.0          Bajaj  \n",
       "41   First Owner   6.0  220.0          Bajaj  \n",
       "68   First Owner  12.0  220.0          Bajaj  \n",
       "142  First Owner   7.0  150.0          Bajaj  \n",
       "143  First Owner   4.0  220.0          Bajaj  \n",
       "144  First Owner   3.0  350.0  Royal Enfield  "
      ]
     },
     "execution_count": 9,
     "metadata": {},
     "output_type": "execute_result"
    }
   ],
   "source": [
    "d.loc[d[\"city\"]==\"Hyderabad\"]"
   ]
  },
  {
   "cell_type": "code",
   "execution_count": 4,
   "id": "aee85551",
   "metadata": {
    "scrolled": true
   },
   "outputs": [
    {
     "data": {
      "text/html": [
       "<div>\n",
       "<style scoped>\n",
       "    .dataframe tbody tr th:only-of-type {\n",
       "        vertical-align: middle;\n",
       "    }\n",
       "\n",
       "    .dataframe tbody tr th {\n",
       "        vertical-align: top;\n",
       "    }\n",
       "\n",
       "    .dataframe thead th {\n",
       "        text-align: right;\n",
       "    }\n",
       "</style>\n",
       "<table border=\"1\" class=\"dataframe\">\n",
       "  <thead>\n",
       "    <tr style=\"text-align: right;\">\n",
       "      <th></th>\n",
       "      <th>names</th>\n",
       "      <th>age</th>\n",
       "    </tr>\n",
       "  </thead>\n",
       "  <tbody>\n",
       "    <tr>\n",
       "      <th>0</th>\n",
       "      <td>a</td>\n",
       "      <td>20</td>\n",
       "    </tr>\n",
       "    <tr>\n",
       "      <th>1</th>\n",
       "      <td>a</td>\n",
       "      <td>20</td>\n",
       "    </tr>\n",
       "    <tr>\n",
       "      <th>2</th>\n",
       "      <td>b</td>\n",
       "      <td>30</td>\n",
       "    </tr>\n",
       "  </tbody>\n",
       "</table>\n",
       "</div>"
      ],
      "text/plain": [
       "  names  age\n",
       "0     a   20\n",
       "1     a   20\n",
       "2     b   30"
      ]
     },
     "execution_count": 4,
     "metadata": {},
     "output_type": "execute_result"
    }
   ],
   "source": [
    "d1={\"names\":[\"a\",\"a\",\"b\"],\"age\":[20,20,30]}\n",
    "d1=pd.DataFrame(d1)\n",
    "d1"
   ]
  },
  {
   "cell_type": "code",
   "execution_count": 5,
   "id": "0e64e849",
   "metadata": {},
   "outputs": [
    {
     "data": {
      "text/html": [
       "<div>\n",
       "<style scoped>\n",
       "    .dataframe tbody tr th:only-of-type {\n",
       "        vertical-align: middle;\n",
       "    }\n",
       "\n",
       "    .dataframe tbody tr th {\n",
       "        vertical-align: top;\n",
       "    }\n",
       "\n",
       "    .dataframe thead th {\n",
       "        text-align: right;\n",
       "    }\n",
       "</style>\n",
       "<table border=\"1\" class=\"dataframe\">\n",
       "  <thead>\n",
       "    <tr style=\"text-align: right;\">\n",
       "      <th></th>\n",
       "      <th>names</th>\n",
       "      <th>age</th>\n",
       "    </tr>\n",
       "  </thead>\n",
       "  <tbody>\n",
       "    <tr>\n",
       "      <th>0</th>\n",
       "      <td>a</td>\n",
       "      <td>20</td>\n",
       "    </tr>\n",
       "    <tr>\n",
       "      <th>2</th>\n",
       "      <td>b</td>\n",
       "      <td>30</td>\n",
       "    </tr>\n",
       "  </tbody>\n",
       "</table>\n",
       "</div>"
      ],
      "text/plain": [
       "  names  age\n",
       "0     a   20\n",
       "2     b   30"
      ]
     },
     "execution_count": 5,
     "metadata": {},
     "output_type": "execute_result"
    }
   ],
   "source": [
    "d1.drop_duplicates()"
   ]
  },
  {
   "cell_type": "code",
   "execution_count": 6,
   "id": "f698cb72",
   "metadata": {},
   "outputs": [],
   "source": [
    "d1=d1.drop_duplicates()"
   ]
  },
  {
   "cell_type": "code",
   "execution_count": 7,
   "id": "164402cb",
   "metadata": {},
   "outputs": [
    {
     "data": {
      "text/html": [
       "<div>\n",
       "<style scoped>\n",
       "    .dataframe tbody tr th:only-of-type {\n",
       "        vertical-align: middle;\n",
       "    }\n",
       "\n",
       "    .dataframe tbody tr th {\n",
       "        vertical-align: top;\n",
       "    }\n",
       "\n",
       "    .dataframe thead th {\n",
       "        text-align: right;\n",
       "    }\n",
       "</style>\n",
       "<table border=\"1\" class=\"dataframe\">\n",
       "  <thead>\n",
       "    <tr style=\"text-align: right;\">\n",
       "      <th></th>\n",
       "      <th>names</th>\n",
       "      <th>age</th>\n",
       "    </tr>\n",
       "  </thead>\n",
       "  <tbody>\n",
       "    <tr>\n",
       "      <th>0</th>\n",
       "      <td>a</td>\n",
       "      <td>20</td>\n",
       "    </tr>\n",
       "    <tr>\n",
       "      <th>2</th>\n",
       "      <td>b</td>\n",
       "      <td>30</td>\n",
       "    </tr>\n",
       "  </tbody>\n",
       "</table>\n",
       "</div>"
      ],
      "text/plain": [
       "  names  age\n",
       "0     a   20\n",
       "2     b   30"
      ]
     },
     "execution_count": 7,
     "metadata": {},
     "output_type": "execute_result"
    }
   ],
   "source": [
    "d1"
   ]
  },
  {
   "cell_type": "code",
   "execution_count": 8,
   "id": "50510bd7",
   "metadata": {},
   "outputs": [
    {
     "data": {
      "text/html": [
       "<div>\n",
       "<style scoped>\n",
       "    .dataframe tbody tr th:only-of-type {\n",
       "        vertical-align: middle;\n",
       "    }\n",
       "\n",
       "    .dataframe tbody tr th {\n",
       "        vertical-align: top;\n",
       "    }\n",
       "\n",
       "    .dataframe thead th {\n",
       "        text-align: right;\n",
       "    }\n",
       "</style>\n",
       "<table border=\"1\" class=\"dataframe\">\n",
       "  <thead>\n",
       "    <tr style=\"text-align: right;\">\n",
       "      <th></th>\n",
       "      <th>new_names</th>\n",
       "      <th>age</th>\n",
       "    </tr>\n",
       "  </thead>\n",
       "  <tbody>\n",
       "    <tr>\n",
       "      <th>0</th>\n",
       "      <td>a</td>\n",
       "      <td>20</td>\n",
       "    </tr>\n",
       "    <tr>\n",
       "      <th>2</th>\n",
       "      <td>b</td>\n",
       "      <td>30</td>\n",
       "    </tr>\n",
       "  </tbody>\n",
       "</table>\n",
       "</div>"
      ],
      "text/plain": [
       "  new_names  age\n",
       "0         a   20\n",
       "2         b   30"
      ]
     },
     "execution_count": 8,
     "metadata": {},
     "output_type": "execute_result"
    }
   ],
   "source": [
    "d1.rename(columns={\"names\":\"new_names\"})"
   ]
  },
  {
   "cell_type": "code",
   "execution_count": 9,
   "id": "8be3b157",
   "metadata": {},
   "outputs": [
    {
     "name": "stdout",
     "output_type": "stream",
     "text": [
      "  new_names  age\n",
      "0         a   20\n",
      "2         b   30\n"
     ]
    }
   ],
   "source": [
    "d1=d1.rename(columns={\"names\":\"new_names\"})\n",
    "print(d1)"
   ]
  },
  {
   "cell_type": "code",
   "execution_count": 10,
   "id": "755a4ce2",
   "metadata": {},
   "outputs": [
    {
     "data": {
      "text/html": [
       "<div>\n",
       "<style scoped>\n",
       "    .dataframe tbody tr th:only-of-type {\n",
       "        vertical-align: middle;\n",
       "    }\n",
       "\n",
       "    .dataframe tbody tr th {\n",
       "        vertical-align: top;\n",
       "    }\n",
       "\n",
       "    .dataframe thead th {\n",
       "        text-align: right;\n",
       "    }\n",
       "</style>\n",
       "<table border=\"1\" class=\"dataframe\">\n",
       "  <thead>\n",
       "    <tr style=\"text-align: right;\">\n",
       "      <th></th>\n",
       "      <th>new_names</th>\n",
       "      <th>age</th>\n",
       "    </tr>\n",
       "  </thead>\n",
       "  <tbody>\n",
       "    <tr>\n",
       "      <th>0</th>\n",
       "      <td>a</td>\n",
       "      <td>20</td>\n",
       "    </tr>\n",
       "    <tr>\n",
       "      <th>2</th>\n",
       "      <td>b</td>\n",
       "      <td>30</td>\n",
       "    </tr>\n",
       "  </tbody>\n",
       "</table>\n",
       "</div>"
      ],
      "text/plain": [
       "  new_names  age\n",
       "0         a   20\n",
       "2         b   30"
      ]
     },
     "execution_count": 10,
     "metadata": {},
     "output_type": "execute_result"
    }
   ],
   "source": [
    "d1"
   ]
  },
  {
   "cell_type": "code",
   "execution_count": 11,
   "id": "14adfd96",
   "metadata": {},
   "outputs": [],
   "source": [
    "d1.rename(columns={\"new_names\":\"new_name_1\"},inplace=True)"
   ]
  },
  {
   "cell_type": "code",
   "execution_count": 12,
   "id": "cbc1861b",
   "metadata": {},
   "outputs": [
    {
     "data": {
      "text/html": [
       "<div>\n",
       "<style scoped>\n",
       "    .dataframe tbody tr th:only-of-type {\n",
       "        vertical-align: middle;\n",
       "    }\n",
       "\n",
       "    .dataframe tbody tr th {\n",
       "        vertical-align: top;\n",
       "    }\n",
       "\n",
       "    .dataframe thead th {\n",
       "        text-align: right;\n",
       "    }\n",
       "</style>\n",
       "<table border=\"1\" class=\"dataframe\">\n",
       "  <thead>\n",
       "    <tr style=\"text-align: right;\">\n",
       "      <th></th>\n",
       "      <th>new_name_1</th>\n",
       "      <th>age</th>\n",
       "    </tr>\n",
       "  </thead>\n",
       "  <tbody>\n",
       "    <tr>\n",
       "      <th>0</th>\n",
       "      <td>a</td>\n",
       "      <td>20</td>\n",
       "    </tr>\n",
       "    <tr>\n",
       "      <th>2</th>\n",
       "      <td>b</td>\n",
       "      <td>30</td>\n",
       "    </tr>\n",
       "  </tbody>\n",
       "</table>\n",
       "</div>"
      ],
      "text/plain": [
       "  new_name_1  age\n",
       "0          a   20\n",
       "2          b   30"
      ]
     },
     "execution_count": 12,
     "metadata": {},
     "output_type": "execute_result"
    }
   ],
   "source": [
    "d1"
   ]
  },
  {
   "cell_type": "code",
   "execution_count": 13,
   "id": "a30bfce2",
   "metadata": {},
   "outputs": [],
   "source": [
    "# Handling Missing / Null values"
   ]
  },
  {
   "cell_type": "code",
   "execution_count": 14,
   "id": "9caac245",
   "metadata": {},
   "outputs": [
    {
     "data": {
      "text/html": [
       "<div>\n",
       "<style scoped>\n",
       "    .dataframe tbody tr th:only-of-type {\n",
       "        vertical-align: middle;\n",
       "    }\n",
       "\n",
       "    .dataframe tbody tr th {\n",
       "        vertical-align: top;\n",
       "    }\n",
       "\n",
       "    .dataframe thead th {\n",
       "        text-align: right;\n",
       "    }\n",
       "</style>\n",
       "<table border=\"1\" class=\"dataframe\">\n",
       "  <thead>\n",
       "    <tr style=\"text-align: right;\">\n",
       "      <th></th>\n",
       "      <th>names</th>\n",
       "      <th>age</th>\n",
       "    </tr>\n",
       "  </thead>\n",
       "  <tbody>\n",
       "    <tr>\n",
       "      <th>0</th>\n",
       "      <td>a</td>\n",
       "      <td>20.0</td>\n",
       "    </tr>\n",
       "    <tr>\n",
       "      <th>1</th>\n",
       "      <td>b</td>\n",
       "      <td>20.0</td>\n",
       "    </tr>\n",
       "    <tr>\n",
       "      <th>2</th>\n",
       "      <td>c</td>\n",
       "      <td>30.0</td>\n",
       "    </tr>\n",
       "    <tr>\n",
       "      <th>3</th>\n",
       "      <td>d</td>\n",
       "      <td>NaN</td>\n",
       "    </tr>\n",
       "  </tbody>\n",
       "</table>\n",
       "</div>"
      ],
      "text/plain": [
       "  names   age\n",
       "0     a  20.0\n",
       "1     b  20.0\n",
       "2     c  30.0\n",
       "3     d   NaN"
      ]
     },
     "execution_count": 14,
     "metadata": {},
     "output_type": "execute_result"
    }
   ],
   "source": [
    "import numpy as np\n",
    "\n",
    "d2={\"names\":[\"a\",\"b\",\"c\",\"d\"],\"age\":[20,20,30,np.nan]}\n",
    "d2=pd.DataFrame(d2)\n",
    "d2\n"
   ]
  },
  {
   "cell_type": "code",
   "execution_count": 15,
   "id": "2d6135fb",
   "metadata": {},
   "outputs": [
    {
     "name": "stdout",
     "output_type": "stream",
     "text": [
      "<class 'pandas.core.frame.DataFrame'>\n",
      "RangeIndex: 4 entries, 0 to 3\n",
      "Data columns (total 2 columns):\n",
      " #   Column  Non-Null Count  Dtype  \n",
      "---  ------  --------------  -----  \n",
      " 0   names   4 non-null      object \n",
      " 1   age     3 non-null      float64\n",
      "dtypes: float64(1), object(1)\n",
      "memory usage: 192.0+ bytes\n"
     ]
    }
   ],
   "source": [
    "d2.info()"
   ]
  },
  {
   "cell_type": "code",
   "execution_count": 16,
   "id": "9fbee648",
   "metadata": {},
   "outputs": [
    {
     "data": {
      "text/plain": [
       "23.333333333333332"
      ]
     },
     "execution_count": 16,
     "metadata": {},
     "output_type": "execute_result"
    }
   ],
   "source": [
    "d2[\"age\"].mean()"
   ]
  },
  {
   "cell_type": "code",
   "execution_count": 17,
   "id": "5aa243f4",
   "metadata": {},
   "outputs": [],
   "source": [
    "d2[\"age\"].fillna(d2[\"age\"].mean(),inplace=True)"
   ]
  },
  {
   "cell_type": "code",
   "execution_count": 18,
   "id": "7bae3eb2",
   "metadata": {},
   "outputs": [
    {
     "data": {
      "text/html": [
       "<div>\n",
       "<style scoped>\n",
       "    .dataframe tbody tr th:only-of-type {\n",
       "        vertical-align: middle;\n",
       "    }\n",
       "\n",
       "    .dataframe tbody tr th {\n",
       "        vertical-align: top;\n",
       "    }\n",
       "\n",
       "    .dataframe thead th {\n",
       "        text-align: right;\n",
       "    }\n",
       "</style>\n",
       "<table border=\"1\" class=\"dataframe\">\n",
       "  <thead>\n",
       "    <tr style=\"text-align: right;\">\n",
       "      <th></th>\n",
       "      <th>names</th>\n",
       "      <th>age</th>\n",
       "    </tr>\n",
       "  </thead>\n",
       "  <tbody>\n",
       "    <tr>\n",
       "      <th>0</th>\n",
       "      <td>a</td>\n",
       "      <td>20.000000</td>\n",
       "    </tr>\n",
       "    <tr>\n",
       "      <th>1</th>\n",
       "      <td>b</td>\n",
       "      <td>20.000000</td>\n",
       "    </tr>\n",
       "    <tr>\n",
       "      <th>2</th>\n",
       "      <td>c</td>\n",
       "      <td>30.000000</td>\n",
       "    </tr>\n",
       "    <tr>\n",
       "      <th>3</th>\n",
       "      <td>d</td>\n",
       "      <td>23.333333</td>\n",
       "    </tr>\n",
       "  </tbody>\n",
       "</table>\n",
       "</div>"
      ],
      "text/plain": [
       "  names        age\n",
       "0     a  20.000000\n",
       "1     b  20.000000\n",
       "2     c  30.000000\n",
       "3     d  23.333333"
      ]
     },
     "execution_count": 18,
     "metadata": {},
     "output_type": "execute_result"
    }
   ],
   "source": [
    "d2"
   ]
  },
  {
   "cell_type": "code",
   "execution_count": 19,
   "id": "c690494f",
   "metadata": {},
   "outputs": [
    {
     "data": {
      "text/html": [
       "<div>\n",
       "<style scoped>\n",
       "    .dataframe tbody tr th:only-of-type {\n",
       "        vertical-align: middle;\n",
       "    }\n",
       "\n",
       "    .dataframe tbody tr th {\n",
       "        vertical-align: top;\n",
       "    }\n",
       "\n",
       "    .dataframe thead th {\n",
       "        text-align: right;\n",
       "    }\n",
       "</style>\n",
       "<table border=\"1\" class=\"dataframe\">\n",
       "  <thead>\n",
       "    <tr style=\"text-align: right;\">\n",
       "      <th></th>\n",
       "      <th>names</th>\n",
       "      <th>age</th>\n",
       "    </tr>\n",
       "  </thead>\n",
       "  <tbody>\n",
       "    <tr>\n",
       "      <th>0</th>\n",
       "      <td>a</td>\n",
       "      <td>20.0</td>\n",
       "    </tr>\n",
       "    <tr>\n",
       "      <th>1</th>\n",
       "      <td>b</td>\n",
       "      <td>20.0</td>\n",
       "    </tr>\n",
       "    <tr>\n",
       "      <th>2</th>\n",
       "      <td>c</td>\n",
       "      <td>30.0</td>\n",
       "    </tr>\n",
       "    <tr>\n",
       "      <th>3</th>\n",
       "      <td>d</td>\n",
       "      <td>NaN</td>\n",
       "    </tr>\n",
       "  </tbody>\n",
       "</table>\n",
       "</div>"
      ],
      "text/plain": [
       "  names   age\n",
       "0     a  20.0\n",
       "1     b  20.0\n",
       "2     c  30.0\n",
       "3     d   NaN"
      ]
     },
     "execution_count": 19,
     "metadata": {},
     "output_type": "execute_result"
    }
   ],
   "source": [
    "d2={\"names\":[\"a\",\"b\",\"c\",\"d\"],\"age\":[20,20,30,np.nan]}\n",
    "d2=pd.DataFrame(d2)\n",
    "d2"
   ]
  },
  {
   "cell_type": "code",
   "execution_count": 20,
   "id": "873e896f",
   "metadata": {},
   "outputs": [],
   "source": [
    "d2[\"age\"].fillna(d2[\"age\"].sum(),inplace=True)"
   ]
  },
  {
   "cell_type": "code",
   "execution_count": 21,
   "id": "26dc0d09",
   "metadata": {},
   "outputs": [
    {
     "data": {
      "text/html": [
       "<div>\n",
       "<style scoped>\n",
       "    .dataframe tbody tr th:only-of-type {\n",
       "        vertical-align: middle;\n",
       "    }\n",
       "\n",
       "    .dataframe tbody tr th {\n",
       "        vertical-align: top;\n",
       "    }\n",
       "\n",
       "    .dataframe thead th {\n",
       "        text-align: right;\n",
       "    }\n",
       "</style>\n",
       "<table border=\"1\" class=\"dataframe\">\n",
       "  <thead>\n",
       "    <tr style=\"text-align: right;\">\n",
       "      <th></th>\n",
       "      <th>names</th>\n",
       "      <th>age</th>\n",
       "    </tr>\n",
       "  </thead>\n",
       "  <tbody>\n",
       "    <tr>\n",
       "      <th>0</th>\n",
       "      <td>a</td>\n",
       "      <td>20.0</td>\n",
       "    </tr>\n",
       "    <tr>\n",
       "      <th>1</th>\n",
       "      <td>b</td>\n",
       "      <td>20.0</td>\n",
       "    </tr>\n",
       "    <tr>\n",
       "      <th>2</th>\n",
       "      <td>c</td>\n",
       "      <td>30.0</td>\n",
       "    </tr>\n",
       "    <tr>\n",
       "      <th>3</th>\n",
       "      <td>d</td>\n",
       "      <td>70.0</td>\n",
       "    </tr>\n",
       "  </tbody>\n",
       "</table>\n",
       "</div>"
      ],
      "text/plain": [
       "  names   age\n",
       "0     a  20.0\n",
       "1     b  20.0\n",
       "2     c  30.0\n",
       "3     d  70.0"
      ]
     },
     "execution_count": 21,
     "metadata": {},
     "output_type": "execute_result"
    }
   ],
   "source": [
    "d2"
   ]
  },
  {
   "cell_type": "code",
   "execution_count": 31,
   "id": "97d630d4",
   "metadata": {},
   "outputs": [
    {
     "data": {
      "text/html": [
       "<div>\n",
       "<style scoped>\n",
       "    .dataframe tbody tr th:only-of-type {\n",
       "        vertical-align: middle;\n",
       "    }\n",
       "\n",
       "    .dataframe tbody tr th {\n",
       "        vertical-align: top;\n",
       "    }\n",
       "\n",
       "    .dataframe thead th {\n",
       "        text-align: right;\n",
       "    }\n",
       "</style>\n",
       "<table border=\"1\" class=\"dataframe\">\n",
       "  <thead>\n",
       "    <tr style=\"text-align: right;\">\n",
       "      <th></th>\n",
       "      <th>names</th>\n",
       "      <th>age</th>\n",
       "    </tr>\n",
       "  </thead>\n",
       "  <tbody>\n",
       "    <tr>\n",
       "      <th>0</th>\n",
       "      <td>a</td>\n",
       "      <td>20.0</td>\n",
       "    </tr>\n",
       "    <tr>\n",
       "      <th>1</th>\n",
       "      <td>b</td>\n",
       "      <td>20.0</td>\n",
       "    </tr>\n",
       "    <tr>\n",
       "      <th>2</th>\n",
       "      <td>c</td>\n",
       "      <td>30.0</td>\n",
       "    </tr>\n",
       "    <tr>\n",
       "      <th>3</th>\n",
       "      <td>d</td>\n",
       "      <td>NaN</td>\n",
       "    </tr>\n",
       "  </tbody>\n",
       "</table>\n",
       "</div>"
      ],
      "text/plain": [
       "  names   age\n",
       "0     a  20.0\n",
       "1     b  20.0\n",
       "2     c  30.0\n",
       "3     d   NaN"
      ]
     },
     "execution_count": 31,
     "metadata": {},
     "output_type": "execute_result"
    }
   ],
   "source": [
    "d2={\"names\":[\"a\",\"b\",\"c\",\"d\"],\"age\":[20,20,30,np.nan]}\n",
    "d2=pd.DataFrame(d2)\n",
    "d2"
   ]
  },
  {
   "cell_type": "code",
   "execution_count": 32,
   "id": "59042a41",
   "metadata": {},
   "outputs": [
    {
     "data": {
      "text/html": [
       "<div>\n",
       "<style scoped>\n",
       "    .dataframe tbody tr th:only-of-type {\n",
       "        vertical-align: middle;\n",
       "    }\n",
       "\n",
       "    .dataframe tbody tr th {\n",
       "        vertical-align: top;\n",
       "    }\n",
       "\n",
       "    .dataframe thead th {\n",
       "        text-align: right;\n",
       "    }\n",
       "</style>\n",
       "<table border=\"1\" class=\"dataframe\">\n",
       "  <thead>\n",
       "    <tr style=\"text-align: right;\">\n",
       "      <th></th>\n",
       "      <th>names</th>\n",
       "      <th>age</th>\n",
       "    </tr>\n",
       "  </thead>\n",
       "  <tbody>\n",
       "    <tr>\n",
       "      <th>0</th>\n",
       "      <td>a</td>\n",
       "      <td>20.0</td>\n",
       "    </tr>\n",
       "    <tr>\n",
       "      <th>1</th>\n",
       "      <td>b</td>\n",
       "      <td>20.0</td>\n",
       "    </tr>\n",
       "    <tr>\n",
       "      <th>2</th>\n",
       "      <td>c</td>\n",
       "      <td>30.0</td>\n",
       "    </tr>\n",
       "  </tbody>\n",
       "</table>\n",
       "</div>"
      ],
      "text/plain": [
       "  names   age\n",
       "0     a  20.0\n",
       "1     b  20.0\n",
       "2     c  30.0"
      ]
     },
     "execution_count": 32,
     "metadata": {},
     "output_type": "execute_result"
    }
   ],
   "source": [
    "#drop na\n",
    "d2.dropna()"
   ]
  },
  {
   "cell_type": "code",
   "execution_count": 22,
   "id": "9f9bfe51",
   "metadata": {},
   "outputs": [],
   "source": [
    "# Adding and Removing columns"
   ]
  },
  {
   "cell_type": "code",
   "execution_count": 23,
   "id": "71365344",
   "metadata": {},
   "outputs": [
    {
     "data": {
      "text/html": [
       "<div>\n",
       "<style scoped>\n",
       "    .dataframe tbody tr th:only-of-type {\n",
       "        vertical-align: middle;\n",
       "    }\n",
       "\n",
       "    .dataframe tbody tr th {\n",
       "        vertical-align: top;\n",
       "    }\n",
       "\n",
       "    .dataframe thead th {\n",
       "        text-align: right;\n",
       "    }\n",
       "</style>\n",
       "<table border=\"1\" class=\"dataframe\">\n",
       "  <thead>\n",
       "    <tr style=\"text-align: right;\">\n",
       "      <th></th>\n",
       "      <th>names</th>\n",
       "    </tr>\n",
       "  </thead>\n",
       "  <tbody>\n",
       "    <tr>\n",
       "      <th>0</th>\n",
       "      <td>a</td>\n",
       "    </tr>\n",
       "    <tr>\n",
       "      <th>1</th>\n",
       "      <td>b</td>\n",
       "    </tr>\n",
       "    <tr>\n",
       "      <th>2</th>\n",
       "      <td>c</td>\n",
       "    </tr>\n",
       "    <tr>\n",
       "      <th>3</th>\n",
       "      <td>d</td>\n",
       "    </tr>\n",
       "  </tbody>\n",
       "</table>\n",
       "</div>"
      ],
      "text/plain": [
       "  names\n",
       "0     a\n",
       "1     b\n",
       "2     c\n",
       "3     d"
      ]
     },
     "execution_count": 23,
     "metadata": {},
     "output_type": "execute_result"
    }
   ],
   "source": [
    "d2.drop(\"age\",axis=1,inplace=True)\n",
    "d2"
   ]
  },
  {
   "cell_type": "code",
   "execution_count": 24,
   "id": "11399e06",
   "metadata": {},
   "outputs": [
    {
     "data": {
      "text/html": [
       "<div>\n",
       "<style scoped>\n",
       "    .dataframe tbody tr th:only-of-type {\n",
       "        vertical-align: middle;\n",
       "    }\n",
       "\n",
       "    .dataframe tbody tr th {\n",
       "        vertical-align: top;\n",
       "    }\n",
       "\n",
       "    .dataframe thead th {\n",
       "        text-align: right;\n",
       "    }\n",
       "</style>\n",
       "<table border=\"1\" class=\"dataframe\">\n",
       "  <thead>\n",
       "    <tr style=\"text-align: right;\">\n",
       "      <th></th>\n",
       "      <th>names</th>\n",
       "      <th>Age</th>\n",
       "    </tr>\n",
       "  </thead>\n",
       "  <tbody>\n",
       "    <tr>\n",
       "      <th>0</th>\n",
       "      <td>a</td>\n",
       "      <td>20</td>\n",
       "    </tr>\n",
       "    <tr>\n",
       "      <th>1</th>\n",
       "      <td>b</td>\n",
       "      <td>20</td>\n",
       "    </tr>\n",
       "    <tr>\n",
       "      <th>2</th>\n",
       "      <td>c</td>\n",
       "      <td>30</td>\n",
       "    </tr>\n",
       "    <tr>\n",
       "      <th>3</th>\n",
       "      <td>d</td>\n",
       "      <td>40</td>\n",
       "    </tr>\n",
       "  </tbody>\n",
       "</table>\n",
       "</div>"
      ],
      "text/plain": [
       "  names  Age\n",
       "0     a   20\n",
       "1     b   20\n",
       "2     c   30\n",
       "3     d   40"
      ]
     },
     "execution_count": 24,
     "metadata": {},
     "output_type": "execute_result"
    }
   ],
   "source": [
    "#\n",
    "d2[\"Age\"]=[20,20,30,40]\n",
    "d2"
   ]
  },
  {
   "cell_type": "code",
   "execution_count": 25,
   "id": "833bbf30",
   "metadata": {},
   "outputs": [
    {
     "data": {
      "text/html": [
       "<div>\n",
       "<style scoped>\n",
       "    .dataframe tbody tr th:only-of-type {\n",
       "        vertical-align: middle;\n",
       "    }\n",
       "\n",
       "    .dataframe tbody tr th {\n",
       "        vertical-align: top;\n",
       "    }\n",
       "\n",
       "    .dataframe thead th {\n",
       "        text-align: right;\n",
       "    }\n",
       "</style>\n",
       "<table border=\"1\" class=\"dataframe\">\n",
       "  <thead>\n",
       "    <tr style=\"text-align: right;\">\n",
       "      <th></th>\n",
       "      <th>names</th>\n",
       "    </tr>\n",
       "  </thead>\n",
       "  <tbody>\n",
       "    <tr>\n",
       "      <th>0</th>\n",
       "      <td>a</td>\n",
       "    </tr>\n",
       "    <tr>\n",
       "      <th>1</th>\n",
       "      <td>b</td>\n",
       "    </tr>\n",
       "    <tr>\n",
       "      <th>2</th>\n",
       "      <td>c</td>\n",
       "    </tr>\n",
       "    <tr>\n",
       "      <th>3</th>\n",
       "      <td>d</td>\n",
       "    </tr>\n",
       "  </tbody>\n",
       "</table>\n",
       "</div>"
      ],
      "text/plain": [
       "  names\n",
       "0     a\n",
       "1     b\n",
       "2     c\n",
       "3     d"
      ]
     },
     "execution_count": 25,
     "metadata": {},
     "output_type": "execute_result"
    }
   ],
   "source": [
    "d2.drop(\"Age\",axis=1,inplace=True)\n",
    "d2"
   ]
  },
  {
   "cell_type": "code",
   "execution_count": 26,
   "id": "a4d36486",
   "metadata": {},
   "outputs": [
    {
     "data": {
      "text/html": [
       "<div>\n",
       "<style scoped>\n",
       "    .dataframe tbody tr th:only-of-type {\n",
       "        vertical-align: middle;\n",
       "    }\n",
       "\n",
       "    .dataframe tbody tr th {\n",
       "        vertical-align: top;\n",
       "    }\n",
       "\n",
       "    .dataframe thead th {\n",
       "        text-align: right;\n",
       "    }\n",
       "</style>\n",
       "<table border=\"1\" class=\"dataframe\">\n",
       "  <thead>\n",
       "    <tr style=\"text-align: right;\">\n",
       "      <th></th>\n",
       "      <th>names</th>\n",
       "      <th>Age</th>\n",
       "    </tr>\n",
       "  </thead>\n",
       "  <tbody>\n",
       "    <tr>\n",
       "      <th>0</th>\n",
       "      <td>a</td>\n",
       "      <td>20</td>\n",
       "    </tr>\n",
       "    <tr>\n",
       "      <th>1</th>\n",
       "      <td>b</td>\n",
       "      <td>20</td>\n",
       "    </tr>\n",
       "    <tr>\n",
       "      <th>2</th>\n",
       "      <td>c</td>\n",
       "      <td>30</td>\n",
       "    </tr>\n",
       "    <tr>\n",
       "      <th>3</th>\n",
       "      <td>d</td>\n",
       "      <td>40</td>\n",
       "    </tr>\n",
       "  </tbody>\n",
       "</table>\n",
       "</div>"
      ],
      "text/plain": [
       "  names  Age\n",
       "0     a   20\n",
       "1     b   20\n",
       "2     c   30\n",
       "3     d   40"
      ]
     },
     "execution_count": 26,
     "metadata": {},
     "output_type": "execute_result"
    }
   ],
   "source": [
    "#\n",
    "d2[\"Age\"]=[20,20,30,40]\n",
    "d2"
   ]
  },
  {
   "cell_type": "code",
   "execution_count": 27,
   "id": "57a676f1",
   "metadata": {},
   "outputs": [
    {
     "data": {
      "text/html": [
       "<div>\n",
       "<style scoped>\n",
       "    .dataframe tbody tr th:only-of-type {\n",
       "        vertical-align: middle;\n",
       "    }\n",
       "\n",
       "    .dataframe tbody tr th {\n",
       "        vertical-align: top;\n",
       "    }\n",
       "\n",
       "    .dataframe thead th {\n",
       "        text-align: right;\n",
       "    }\n",
       "</style>\n",
       "<table border=\"1\" class=\"dataframe\">\n",
       "  <thead>\n",
       "    <tr style=\"text-align: right;\">\n",
       "      <th></th>\n",
       "      <th>names</th>\n",
       "      <th>Age</th>\n",
       "      <th>Date</th>\n",
       "    </tr>\n",
       "  </thead>\n",
       "  <tbody>\n",
       "    <tr>\n",
       "      <th>0</th>\n",
       "      <td>a</td>\n",
       "      <td>20</td>\n",
       "      <td>2001</td>\n",
       "    </tr>\n",
       "    <tr>\n",
       "      <th>1</th>\n",
       "      <td>b</td>\n",
       "      <td>20</td>\n",
       "      <td>2002</td>\n",
       "    </tr>\n",
       "    <tr>\n",
       "      <th>2</th>\n",
       "      <td>c</td>\n",
       "      <td>30</td>\n",
       "      <td>2003</td>\n",
       "    </tr>\n",
       "    <tr>\n",
       "      <th>3</th>\n",
       "      <td>d</td>\n",
       "      <td>40</td>\n",
       "      <td>2004</td>\n",
       "    </tr>\n",
       "  </tbody>\n",
       "</table>\n",
       "</div>"
      ],
      "text/plain": [
       "  names  Age  Date\n",
       "0     a   20  2001\n",
       "1     b   20  2002\n",
       "2     c   30  2003\n",
       "3     d   40  2004"
      ]
     },
     "execution_count": 27,
     "metadata": {},
     "output_type": "execute_result"
    }
   ],
   "source": [
    "d2[\"Date\"]=[2001,2002,2003,2004]\n",
    "d2"
   ]
  },
  {
   "cell_type": "code",
   "execution_count": 28,
   "id": "3eee2542",
   "metadata": {},
   "outputs": [
    {
     "name": "stdout",
     "output_type": "stream",
     "text": [
      "<class 'pandas.core.frame.DataFrame'>\n",
      "RangeIndex: 4 entries, 0 to 3\n",
      "Data columns (total 3 columns):\n",
      " #   Column  Non-Null Count  Dtype \n",
      "---  ------  --------------  ----- \n",
      " 0   names   4 non-null      object\n",
      " 1   Age     4 non-null      int64 \n",
      " 2   Date    4 non-null      int64 \n",
      "dtypes: int64(2), object(1)\n",
      "memory usage: 224.0+ bytes\n"
     ]
    }
   ],
   "source": [
    "d2.info()"
   ]
  },
  {
   "cell_type": "code",
   "execution_count": 29,
   "id": "6c0bafa3",
   "metadata": {},
   "outputs": [],
   "source": [
    "d2[\"Date\"]=pd.to_datetime(d2[\"Date\"])"
   ]
  },
  {
   "cell_type": "code",
   "execution_count": 30,
   "id": "88e63f0f",
   "metadata": {},
   "outputs": [
    {
     "name": "stdout",
     "output_type": "stream",
     "text": [
      "<class 'pandas.core.frame.DataFrame'>\n",
      "RangeIndex: 4 entries, 0 to 3\n",
      "Data columns (total 3 columns):\n",
      " #   Column  Non-Null Count  Dtype         \n",
      "---  ------  --------------  -----         \n",
      " 0   names   4 non-null      object        \n",
      " 1   Age     4 non-null      int64         \n",
      " 2   Date    4 non-null      datetime64[ns]\n",
      "dtypes: datetime64[ns](1), int64(1), object(1)\n",
      "memory usage: 224.0+ bytes\n"
     ]
    }
   ],
   "source": [
    "d2.info()"
   ]
  },
  {
   "cell_type": "code",
   "execution_count": null,
   "id": "b156b1bd",
   "metadata": {},
   "outputs": [],
   "source": []
  }
 ],
 "metadata": {
  "kernelspec": {
   "display_name": "Python 3 (ipykernel)",
   "language": "python",
   "name": "python3"
  },
  "language_info": {
   "codemirror_mode": {
    "name": "ipython",
    "version": 3
   },
   "file_extension": ".py",
   "mimetype": "text/x-python",
   "name": "python",
   "nbconvert_exporter": "python",
   "pygments_lexer": "ipython3",
   "version": "3.9.7"
  }
 },
 "nbformat": 4,
 "nbformat_minor": 5
}
